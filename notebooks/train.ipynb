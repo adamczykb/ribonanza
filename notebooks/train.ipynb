{
 "cells": [
  {
   "cell_type": "markdown",
   "metadata": {},
   "source": [
    "## Transformer learning process"
   ]
  },
  {
   "cell_type": "code",
   "execution_count": 1,
   "metadata": {},
   "outputs": [],
   "source": [
    "import pandas as pd"
   ]
  },
  {
   "cell_type": "code",
   "execution_count": 4,
   "metadata": {},
   "outputs": [
    {
     "name": "stdout",
     "output_type": "stream",
     "text": [
      "         sequence_id                                           sequence  \\\n",
      "0       8cdfeef009ea  GGGAACGACUCGAGUAGAGUCGAAAAACGUUGAUAUGGAUUUACUC...   \n",
      "1       51e61fbde94d  GGGAACGACUCGAGUAGAGUCGAAAAACAUUGAUAUGGAUUUACUC...   \n",
      "2       25ce8d5109cd  GGGAACGACUCGAGUAGAGUCGAAAAACCUUGAUAUGGAUUUACUC...   \n",
      "3       07dcfb6d1965  GGGAACGACUCGAGUAGAGUCGAAAAACUUUGAUAUGGAUUUACUC...   \n",
      "4       e561cc042a4c  GGGAACGACUCGAGUAGAGUCGAAAAACGAUGAUAUGGAUUUACUC...   \n",
      "...              ...                                                ...   \n",
      "999995  b9419b0391f9  GGGAACGACUCGAGUAGAGUCGAAAAGAUAUGGACCGACCCAAGGU...   \n",
      "999996  1c8186e498a9  GGGAACGACUCGAGUAGAGUCGAAAAGAUAUGGAUGUUGAGUGUAG...   \n",
      "999997  eb72f8259d58  GGGAACGACUCGAGUAGAGUCGAAAAGAUAUGGACGAUAUCUCGAG...   \n",
      "999998  a0a818117958  GGGAACGACUCGAGUAGAGUCGAAAAAAAAAAAAGAUAUGGAGGCU...   \n",
      "999999  2ee955ab465f  GGGAACGACUCGAGUAGAGUCGAAAAAAAAAAAAGAUAUGGAGUCU...   \n",
      "\n",
      "       experiment_type                             dataset_name   reads  \\\n",
      "0              2A3_MaP                                  15k_2A3    2343   \n",
      "1              2A3_MaP                                  15k_2A3    5326   \n",
      "2              2A3_MaP                                  15k_2A3    4647   \n",
      "3              2A3_MaP                                  15k_2A3  102843   \n",
      "4              2A3_MaP                                  15k_2A3    7665   \n",
      "...                ...                                      ...     ...   \n",
      "999995         2A3_MaP  DasLabBigLib_OneMil_RNAmake_designs_2A3     345   \n",
      "999996         2A3_MaP  DasLabBigLib_OneMil_RNAmake_designs_2A3    1715   \n",
      "999997         2A3_MaP  DasLabBigLib_OneMil_RNAmake_designs_2A3    2149   \n",
      "999998         2A3_MaP  DasLabBigLib_OneMil_RNAmake_designs_2A3      12   \n",
      "999999         2A3_MaP  DasLabBigLib_OneMil_RNAmake_designs_2A3      12   \n",
      "\n",
      "        signal_to_noise  SN_filter  reactivity_0001  reactivity_0002  \\\n",
      "0                 0.944          0              NaN              NaN   \n",
      "1                 1.933          1              NaN              NaN   \n",
      "2                 2.347          1              NaN              NaN   \n",
      "3                11.824          1              NaN              NaN   \n",
      "4                 3.519          1              NaN              NaN   \n",
      "...                 ...        ...              ...              ...   \n",
      "999995            0.165          0              NaN              NaN   \n",
      "999996            1.405          1              NaN              NaN   \n",
      "999997            2.138          1              NaN              NaN   \n",
      "999998            0.026          0              NaN              NaN   \n",
      "999999           -0.003          0              NaN              NaN   \n",
      "\n",
      "        reactivity_0003  ...  reactivity_error_0197  reactivity_error_0198  \\\n",
      "0                   NaN  ...                    NaN                    NaN   \n",
      "1                   NaN  ...                    NaN                    NaN   \n",
      "2                   NaN  ...                    NaN                    NaN   \n",
      "3                   NaN  ...                    NaN                    NaN   \n",
      "4                   NaN  ...                    NaN                    NaN   \n",
      "...                 ...  ...                    ...                    ...   \n",
      "999995              NaN  ...                    NaN                    NaN   \n",
      "999996              NaN  ...                    NaN                    NaN   \n",
      "999997              NaN  ...                    NaN                    NaN   \n",
      "999998              NaN  ...                    NaN                    NaN   \n",
      "999999              NaN  ...                    NaN                    NaN   \n",
      "\n",
      "        reactivity_error_0199  reactivity_error_0200  reactivity_error_0201  \\\n",
      "0                         NaN                    NaN                    NaN   \n",
      "1                         NaN                    NaN                    NaN   \n",
      "2                         NaN                    NaN                    NaN   \n",
      "3                         NaN                    NaN                    NaN   \n",
      "4                         NaN                    NaN                    NaN   \n",
      "...                       ...                    ...                    ...   \n",
      "999995                    NaN                    NaN                    NaN   \n",
      "999996                    NaN                    NaN                    NaN   \n",
      "999997                    NaN                    NaN                    NaN   \n",
      "999998                    NaN                    NaN                    NaN   \n",
      "999999                    NaN                    NaN                    NaN   \n",
      "\n",
      "        reactivity_error_0202  reactivity_error_0203  reactivity_error_0204  \\\n",
      "0                         NaN                    NaN                    NaN   \n",
      "1                         NaN                    NaN                    NaN   \n",
      "2                         NaN                    NaN                    NaN   \n",
      "3                         NaN                    NaN                    NaN   \n",
      "4                         NaN                    NaN                    NaN   \n",
      "...                       ...                    ...                    ...   \n",
      "999995                    NaN                    NaN                    NaN   \n",
      "999996                    NaN                    NaN                    NaN   \n",
      "999997                    NaN                    NaN                    NaN   \n",
      "999998                    NaN                    NaN                    NaN   \n",
      "999999                    NaN                    NaN                    NaN   \n",
      "\n",
      "        reactivity_error_0205  reactivity_error_0206  \n",
      "0                         NaN                    NaN  \n",
      "1                         NaN                    NaN  \n",
      "2                         NaN                    NaN  \n",
      "3                         NaN                    NaN  \n",
      "4                         NaN                    NaN  \n",
      "...                       ...                    ...  \n",
      "999995                    NaN                    NaN  \n",
      "999996                    NaN                    NaN  \n",
      "999997                    NaN                    NaN  \n",
      "999998                    NaN                    NaN  \n",
      "999999                    NaN                    NaN  \n",
      "\n",
      "[1000000 rows x 419 columns]\n"
     ]
    }
   ],
   "source": [
    "chunksize = 10 ** 6\n",
    "with pd.read_csv(\"/home/adamczykb/projects/stanford/train_data.csv\", chunksize=chunksize) as reader:\n",
    "    for chunk in reader:\n",
    "        print(chunk)\n",
    "        break\n"
   ]
  }
 ],
 "metadata": {
  "kernelspec": {
   "display_name": ".venv",
   "language": "python",
   "name": "python3"
  },
  "language_info": {
   "codemirror_mode": {
    "name": "ipython",
    "version": 3
   },
   "file_extension": ".py",
   "mimetype": "text/x-python",
   "name": "python",
   "nbconvert_exporter": "python",
   "pygments_lexer": "ipython3",
   "version": "3.11.7"
  }
 },
 "nbformat": 4,
 "nbformat_minor": 2
}
